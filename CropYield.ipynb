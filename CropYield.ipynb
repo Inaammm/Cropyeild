{
 "cells": [
  {
   "cell_type": "code",
   "execution_count": 1,
   "id": "bb5bf8c5",
   "metadata": {},
   "outputs": [],
   "source": [
    "import pandas as pd\n",
    "import matplotlib.pyplot as plt"
   ]
  },
  {
   "cell_type": "code",
   "execution_count": 2,
   "id": "1ebac83f",
   "metadata": {},
   "outputs": [],
   "source": [
    "data=pd.read_csv(r\"D:\\2022BE Projects\\sunflower yeild\\dataset.csv\")"
   ]
  },
  {
   "cell_type": "code",
   "execution_count": 3,
   "id": "c27679bc",
   "metadata": {},
   "outputs": [
    {
     "data": {
      "text/html": [
       "<div>\n",
       "<style scoped>\n",
       "    .dataframe tbody tr th:only-of-type {\n",
       "        vertical-align: middle;\n",
       "    }\n",
       "\n",
       "    .dataframe tbody tr th {\n",
       "        vertical-align: top;\n",
       "    }\n",
       "\n",
       "    .dataframe thead th {\n",
       "        text-align: right;\n",
       "    }\n",
       "</style>\n",
       "<table border=\"1\" class=\"dataframe\">\n",
       "  <thead>\n",
       "    <tr style=\"text-align: right;\">\n",
       "      <th></th>\n",
       "      <th>id</th>\n",
       "      <th>water</th>\n",
       "      <th>uv</th>\n",
       "      <th>area</th>\n",
       "      <th>fertilizer_usage</th>\n",
       "      <th>pesticides</th>\n",
       "      <th>region</th>\n",
       "      <th>categories</th>\n",
       "      <th>yield</th>\n",
       "    </tr>\n",
       "  </thead>\n",
       "  <tbody>\n",
       "    <tr>\n",
       "      <th>0</th>\n",
       "      <td>169</td>\n",
       "      <td>5.615</td>\n",
       "      <td>65.281</td>\n",
       "      <td>3.230</td>\n",
       "      <td>0</td>\n",
       "      <td>8.969</td>\n",
       "      <td>0</td>\n",
       "      <td>b,a,c</td>\n",
       "      <td>7.977</td>\n",
       "    </tr>\n",
       "    <tr>\n",
       "      <th>1</th>\n",
       "      <td>476</td>\n",
       "      <td>7.044</td>\n",
       "      <td>73.319</td>\n",
       "      <td>9.081</td>\n",
       "      <td>0</td>\n",
       "      <td>7.197</td>\n",
       "      <td>0</td>\n",
       "      <td>c,a,d</td>\n",
       "      <td>23.009</td>\n",
       "    </tr>\n",
       "    <tr>\n",
       "      <th>2</th>\n",
       "      <td>152</td>\n",
       "      <td>5.607</td>\n",
       "      <td>60.038</td>\n",
       "      <td>2.864</td>\n",
       "      <td>2</td>\n",
       "      <td>7.424</td>\n",
       "      <td>0</td>\n",
       "      <td>d,a</td>\n",
       "      <td>23.019</td>\n",
       "    </tr>\n",
       "    <tr>\n",
       "      <th>3</th>\n",
       "      <td>293</td>\n",
       "      <td>9.346</td>\n",
       "      <td>64.719</td>\n",
       "      <td>2.797</td>\n",
       "      <td>2</td>\n",
       "      <td>1.256</td>\n",
       "      <td>0</td>\n",
       "      <td>d</td>\n",
       "      <td>28.066</td>\n",
       "    </tr>\n",
       "    <tr>\n",
       "      <th>4</th>\n",
       "      <td>10</td>\n",
       "      <td>7.969</td>\n",
       "      <td>NaN</td>\n",
       "      <td>5.407</td>\n",
       "      <td>1</td>\n",
       "      <td>0.274</td>\n",
       "      <td>0</td>\n",
       "      <td>c,d</td>\n",
       "      <td>29.140</td>\n",
       "    </tr>\n",
       "    <tr>\n",
       "      <th>...</th>\n",
       "      <td>...</td>\n",
       "      <td>...</td>\n",
       "      <td>...</td>\n",
       "      <td>...</td>\n",
       "      <td>...</td>\n",
       "      <td>...</td>\n",
       "      <td>...</td>\n",
       "      <td>...</td>\n",
       "      <td>...</td>\n",
       "    </tr>\n",
       "    <tr>\n",
       "      <th>995</th>\n",
       "      <td>614</td>\n",
       "      <td>6.379</td>\n",
       "      <td>94.132</td>\n",
       "      <td>11.571</td>\n",
       "      <td>5</td>\n",
       "      <td>2.891</td>\n",
       "      <td>6</td>\n",
       "      <td>c,b</td>\n",
       "      <td>98.673</td>\n",
       "    </tr>\n",
       "    <tr>\n",
       "      <th>996</th>\n",
       "      <td>490</td>\n",
       "      <td>6.980</td>\n",
       "      <td>82.727</td>\n",
       "      <td>11.264</td>\n",
       "      <td>5</td>\n",
       "      <td>3.500</td>\n",
       "      <td>6</td>\n",
       "      <td>d,c,b</td>\n",
       "      <td>101.090</td>\n",
       "    </tr>\n",
       "    <tr>\n",
       "      <th>997</th>\n",
       "      <td>392</td>\n",
       "      <td>NaN</td>\n",
       "      <td>58.218</td>\n",
       "      <td>11.859</td>\n",
       "      <td>4</td>\n",
       "      <td>4.005</td>\n",
       "      <td>6</td>\n",
       "      <td>c,b,a</td>\n",
       "      <td>103.673</td>\n",
       "    </tr>\n",
       "    <tr>\n",
       "      <th>998</th>\n",
       "      <td>773</td>\n",
       "      <td>10.070</td>\n",
       "      <td>67.905</td>\n",
       "      <td>11.567</td>\n",
       "      <td>4</td>\n",
       "      <td>2.339</td>\n",
       "      <td>6</td>\n",
       "      <td>a</td>\n",
       "      <td>104.343</td>\n",
       "    </tr>\n",
       "    <tr>\n",
       "      <th>999</th>\n",
       "      <td>104</td>\n",
       "      <td>7.679</td>\n",
       "      <td>NaN</td>\n",
       "      <td>13.489</td>\n",
       "      <td>5</td>\n",
       "      <td>1.974</td>\n",
       "      <td>6</td>\n",
       "      <td>a</td>\n",
       "      <td>106.421</td>\n",
       "    </tr>\n",
       "  </tbody>\n",
       "</table>\n",
       "<p>1000 rows × 9 columns</p>\n",
       "</div>"
      ],
      "text/plain": [
       "      id   water      uv    area  fertilizer_usage  pesticides  region  \\\n",
       "0    169   5.615  65.281   3.230                 0       8.969       0   \n",
       "1    476   7.044  73.319   9.081                 0       7.197       0   \n",
       "2    152   5.607  60.038   2.864                 2       7.424       0   \n",
       "3    293   9.346  64.719   2.797                 2       1.256       0   \n",
       "4     10   7.969     NaN   5.407                 1       0.274       0   \n",
       "..   ...     ...     ...     ...               ...         ...     ...   \n",
       "995  614   6.379  94.132  11.571                 5       2.891       6   \n",
       "996  490   6.980  82.727  11.264                 5       3.500       6   \n",
       "997  392     NaN  58.218  11.859                 4       4.005       6   \n",
       "998  773  10.070  67.905  11.567                 4       2.339       6   \n",
       "999  104   7.679     NaN  13.489                 5       1.974       6   \n",
       "\n",
       "    categories    yield  \n",
       "0        b,a,c    7.977  \n",
       "1        c,a,d   23.009  \n",
       "2          d,a   23.019  \n",
       "3            d   28.066  \n",
       "4          c,d   29.140  \n",
       "..         ...      ...  \n",
       "995        c,b   98.673  \n",
       "996      d,c,b  101.090  \n",
       "997      c,b,a  103.673  \n",
       "998          a  104.343  \n",
       "999          a  106.421  \n",
       "\n",
       "[1000 rows x 9 columns]"
      ]
     },
     "execution_count": 3,
     "metadata": {},
     "output_type": "execute_result"
    }
   ],
   "source": [
    "data"
   ]
  },
  {
   "cell_type": "code",
   "execution_count": 4,
   "id": "32124f75",
   "metadata": {},
   "outputs": [
    {
     "name": "stdout",
     "output_type": "stream",
     "text": [
      "<class 'pandas.core.frame.DataFrame'>\n",
      "RangeIndex: 1000 entries, 0 to 999\n",
      "Data columns (total 9 columns):\n",
      " #   Column            Non-Null Count  Dtype  \n",
      "---  ------            --------------  -----  \n",
      " 0   id                1000 non-null   int64  \n",
      " 1   water             958 non-null    float64\n",
      " 2   uv                949 non-null    float64\n",
      " 3   area              1000 non-null   float64\n",
      " 4   fertilizer_usage  1000 non-null   int64  \n",
      " 5   pesticides        1000 non-null   float64\n",
      " 6   region            1000 non-null   int64  \n",
      " 7   categories        1000 non-null   object \n",
      " 8   yield             1000 non-null   float64\n",
      "dtypes: float64(5), int64(3), object(1)\n",
      "memory usage: 70.4+ KB\n"
     ]
    }
   ],
   "source": [
    "data.info()"
   ]
  },
  {
   "cell_type": "code",
   "execution_count": 5,
   "id": "fc1f6d7b",
   "metadata": {},
   "outputs": [
    {
     "data": {
      "text/plain": [
       "(1000, 9)"
      ]
     },
     "execution_count": 5,
     "metadata": {},
     "output_type": "execute_result"
    }
   ],
   "source": [
    "data.shape"
   ]
  },
  {
   "cell_type": "code",
   "execution_count": 6,
   "id": "d7075240",
   "metadata": {},
   "outputs": [
    {
     "data": {
      "text/plain": [
       "Index(['id', 'water', 'uv', 'area', 'fertilizer_usage', 'pesticides', 'region',\n",
       "       'categories', 'yield'],\n",
       "      dtype='object')"
      ]
     },
     "execution_count": 6,
     "metadata": {},
     "output_type": "execute_result"
    }
   ],
   "source": [
    "data.columns"
   ]
  },
  {
   "cell_type": "code",
   "execution_count": 7,
   "id": "9ecc8130",
   "metadata": {},
   "outputs": [],
   "source": [
    "data=data.drop(columns=['id','categories'],axis=1)"
   ]
  },
  {
   "cell_type": "code",
   "execution_count": 8,
   "id": "ba034270",
   "metadata": {},
   "outputs": [
    {
     "data": {
      "text/html": [
       "<div>\n",
       "<style scoped>\n",
       "    .dataframe tbody tr th:only-of-type {\n",
       "        vertical-align: middle;\n",
       "    }\n",
       "\n",
       "    .dataframe tbody tr th {\n",
       "        vertical-align: top;\n",
       "    }\n",
       "\n",
       "    .dataframe thead th {\n",
       "        text-align: right;\n",
       "    }\n",
       "</style>\n",
       "<table border=\"1\" class=\"dataframe\">\n",
       "  <thead>\n",
       "    <tr style=\"text-align: right;\">\n",
       "      <th></th>\n",
       "      <th>water</th>\n",
       "      <th>uv</th>\n",
       "      <th>area</th>\n",
       "      <th>fertilizer_usage</th>\n",
       "      <th>pesticides</th>\n",
       "      <th>region</th>\n",
       "      <th>yield</th>\n",
       "    </tr>\n",
       "  </thead>\n",
       "  <tbody>\n",
       "    <tr>\n",
       "      <th>0</th>\n",
       "      <td>5.615</td>\n",
       "      <td>65.281</td>\n",
       "      <td>3.230</td>\n",
       "      <td>0</td>\n",
       "      <td>8.969</td>\n",
       "      <td>0</td>\n",
       "      <td>7.977</td>\n",
       "    </tr>\n",
       "    <tr>\n",
       "      <th>1</th>\n",
       "      <td>7.044</td>\n",
       "      <td>73.319</td>\n",
       "      <td>9.081</td>\n",
       "      <td>0</td>\n",
       "      <td>7.197</td>\n",
       "      <td>0</td>\n",
       "      <td>23.009</td>\n",
       "    </tr>\n",
       "    <tr>\n",
       "      <th>2</th>\n",
       "      <td>5.607</td>\n",
       "      <td>60.038</td>\n",
       "      <td>2.864</td>\n",
       "      <td>2</td>\n",
       "      <td>7.424</td>\n",
       "      <td>0</td>\n",
       "      <td>23.019</td>\n",
       "    </tr>\n",
       "    <tr>\n",
       "      <th>3</th>\n",
       "      <td>9.346</td>\n",
       "      <td>64.719</td>\n",
       "      <td>2.797</td>\n",
       "      <td>2</td>\n",
       "      <td>1.256</td>\n",
       "      <td>0</td>\n",
       "      <td>28.066</td>\n",
       "    </tr>\n",
       "    <tr>\n",
       "      <th>4</th>\n",
       "      <td>7.969</td>\n",
       "      <td>NaN</td>\n",
       "      <td>5.407</td>\n",
       "      <td>1</td>\n",
       "      <td>0.274</td>\n",
       "      <td>0</td>\n",
       "      <td>29.140</td>\n",
       "    </tr>\n",
       "    <tr>\n",
       "      <th>...</th>\n",
       "      <td>...</td>\n",
       "      <td>...</td>\n",
       "      <td>...</td>\n",
       "      <td>...</td>\n",
       "      <td>...</td>\n",
       "      <td>...</td>\n",
       "      <td>...</td>\n",
       "    </tr>\n",
       "    <tr>\n",
       "      <th>995</th>\n",
       "      <td>6.379</td>\n",
       "      <td>94.132</td>\n",
       "      <td>11.571</td>\n",
       "      <td>5</td>\n",
       "      <td>2.891</td>\n",
       "      <td>6</td>\n",
       "      <td>98.673</td>\n",
       "    </tr>\n",
       "    <tr>\n",
       "      <th>996</th>\n",
       "      <td>6.980</td>\n",
       "      <td>82.727</td>\n",
       "      <td>11.264</td>\n",
       "      <td>5</td>\n",
       "      <td>3.500</td>\n",
       "      <td>6</td>\n",
       "      <td>101.090</td>\n",
       "    </tr>\n",
       "    <tr>\n",
       "      <th>997</th>\n",
       "      <td>NaN</td>\n",
       "      <td>58.218</td>\n",
       "      <td>11.859</td>\n",
       "      <td>4</td>\n",
       "      <td>4.005</td>\n",
       "      <td>6</td>\n",
       "      <td>103.673</td>\n",
       "    </tr>\n",
       "    <tr>\n",
       "      <th>998</th>\n",
       "      <td>10.070</td>\n",
       "      <td>67.905</td>\n",
       "      <td>11.567</td>\n",
       "      <td>4</td>\n",
       "      <td>2.339</td>\n",
       "      <td>6</td>\n",
       "      <td>104.343</td>\n",
       "    </tr>\n",
       "    <tr>\n",
       "      <th>999</th>\n",
       "      <td>7.679</td>\n",
       "      <td>NaN</td>\n",
       "      <td>13.489</td>\n",
       "      <td>5</td>\n",
       "      <td>1.974</td>\n",
       "      <td>6</td>\n",
       "      <td>106.421</td>\n",
       "    </tr>\n",
       "  </tbody>\n",
       "</table>\n",
       "<p>1000 rows × 7 columns</p>\n",
       "</div>"
      ],
      "text/plain": [
       "      water      uv    area  fertilizer_usage  pesticides  region    yield\n",
       "0     5.615  65.281   3.230                 0       8.969       0    7.977\n",
       "1     7.044  73.319   9.081                 0       7.197       0   23.009\n",
       "2     5.607  60.038   2.864                 2       7.424       0   23.019\n",
       "3     9.346  64.719   2.797                 2       1.256       0   28.066\n",
       "4     7.969     NaN   5.407                 1       0.274       0   29.140\n",
       "..      ...     ...     ...               ...         ...     ...      ...\n",
       "995   6.379  94.132  11.571                 5       2.891       6   98.673\n",
       "996   6.980  82.727  11.264                 5       3.500       6  101.090\n",
       "997     NaN  58.218  11.859                 4       4.005       6  103.673\n",
       "998  10.070  67.905  11.567                 4       2.339       6  104.343\n",
       "999   7.679     NaN  13.489                 5       1.974       6  106.421\n",
       "\n",
       "[1000 rows x 7 columns]"
      ]
     },
     "execution_count": 8,
     "metadata": {},
     "output_type": "execute_result"
    }
   ],
   "source": [
    "data"
   ]
  },
  {
   "cell_type": "code",
   "execution_count": 9,
   "id": "91870438",
   "metadata": {
    "scrolled": true
   },
   "outputs": [
    {
     "data": {
      "text/plain": [
       "water               42\n",
       "uv                  51\n",
       "area                 0\n",
       "fertilizer_usage     0\n",
       "pesticides           0\n",
       "region               0\n",
       "yield                0\n",
       "dtype: int64"
      ]
     },
     "execution_count": 9,
     "metadata": {},
     "output_type": "execute_result"
    }
   ],
   "source": [
    "data.isnull().sum()"
   ]
  },
  {
   "cell_type": "code",
   "execution_count": 10,
   "id": "9770e03e",
   "metadata": {},
   "outputs": [],
   "source": [
    "import numpy as np"
   ]
  },
  {
   "cell_type": "code",
   "execution_count": 11,
   "id": "fe3d0445",
   "metadata": {},
   "outputs": [],
   "source": [
    "data.water = pd.DataFrame(data.water).replace(np.nan, pd.DataFrame.median(data.water))#Replacing NaN with median\n",
    "data.uv = pd.DataFrame(data.uv).replace(np.nan, pd.DataFrame.median(data.uv))#Replacing NaN with median"
   ]
  },
  {
   "cell_type": "code",
   "execution_count": 12,
   "id": "77e8ed23",
   "metadata": {
    "scrolled": true
   },
   "outputs": [
    {
     "data": {
      "text/plain": [
       "water               0\n",
       "uv                  0\n",
       "area                0\n",
       "fertilizer_usage    0\n",
       "pesticides          0\n",
       "region              0\n",
       "yield               0\n",
       "dtype: int64"
      ]
     },
     "execution_count": 12,
     "metadata": {},
     "output_type": "execute_result"
    }
   ],
   "source": [
    "data.isnull().sum()"
   ]
  },
  {
   "cell_type": "code",
   "execution_count": 13,
   "id": "74c2ebb2",
   "metadata": {},
   "outputs": [],
   "source": [
    "import seaborn as sns"
   ]
  },
  {
   "cell_type": "code",
   "execution_count": 14,
   "id": "dac9697d",
   "metadata": {
    "scrolled": false
   },
   "outputs": [
    {
     "name": "stderr",
     "output_type": "stream",
     "text": [
      "C:\\Users\\admin\\anaconda3\\lib\\site-packages\\seaborn\\_decorators.py:36: FutureWarning: Pass the following variable as a keyword arg: x. From version 0.12, the only valid positional argument will be `data`, and passing other arguments without an explicit keyword will result in an error or misinterpretation.\n",
      "  warnings.warn(\n"
     ]
    },
    {
     "data": {
      "text/plain": [
       "<AxesSubplot:xlabel='water'>"
      ]
     },
     "execution_count": 14,
     "metadata": {},
     "output_type": "execute_result"
    },
    {
     "data": {
      "image/png": "[encoded data removed]",
      "text/plain": [
       "<Figure size 432x288 with 1 Axes>"
      ]
     },
     "metadata": {
      "needs_background": "light"
     },
     "output_type": "display_data"
    }
   ],
   "source": [
    "sns.boxplot(data[\"water\"])"
   ]
  },
  {
   "cell_type": "code",
   "execution_count": 15,
   "id": "3da48ec0",
   "metadata": {},
   "outputs": [],
   "source": [
    "data.drop(data[data['water']>200].index,inplace=True)"
   ]
  },
  {
   "cell_type": "code",
   "execution_count": 16,
   "id": "fa5fc266",
   "metadata": {},
   "outputs": [
    {
     "name": "stderr",
     "output_type": "stream",
     "text": [
      "C:\\Users\\admin\\anaconda3\\lib\\site-packages\\seaborn\\_decorators.py:36: FutureWarning: Pass the following variable as a keyword arg: x. From version 0.12, the only valid positional argument will be `data`, and passing other arguments without an explicit keyword will result in an error or misinterpretation.\n",
      "  warnings.warn(\n"
     ]
    },
    {
     "data": {
      "text/plain": [
       "<AxesSubplot:xlabel='water'>"
      ]
     },
     "execution_count": 16,
     "metadata": {},
     "output_type": "execute_result"
    },
    {
     "data": {
      "image/png": "[encoded data removed]",
      "text/plain": [
       "<Figure size 432x288 with 1 Axes>"
      ]
     },
     "metadata": {
      "needs_background": "light"
     },
     "output_type": "display_data"
    }
   ],
   "source": [
    "sns.boxplot(data[\"water\"])"
   ]
  },
  {
   "cell_type": "code",
   "execution_count": 17,
   "id": "c6ac3a49",
   "metadata": {
    "scrolled": false
   },
   "outputs": [
    {
     "name": "stderr",
     "output_type": "stream",
     "text": [
      "C:\\Users\\admin\\anaconda3\\lib\\site-packages\\seaborn\\_decorators.py:36: FutureWarning: Pass the following variable as a keyword arg: x. From version 0.12, the only valid positional argument will be `data`, and passing other arguments without an explicit keyword will result in an error or misinterpretation.\n",
      "  warnings.warn(\n"
     ]
    },
    {
     "data": {
      "text/plain": [
       "<AxesSubplot:xlabel='uv'>"
      ]
     },
     "execution_count": 17,
     "metadata": {},
     "output_type": "execute_result"
    },
    {
     "data": {
      "image/png": "[encoded data removed]",
      "text/plain": [
       "<Figure size 432x288 with 1 Axes>"
      ]
     },
     "metadata": {
      "needs_background": "light"
     },
     "output_type": "display_data"
    }
   ],
   "source": [
    "sns.boxplot(data[\"uv\"])"
   ]
  },
  {
   "cell_type": "code",
   "execution_count": 18,
   "id": "43f5a5a2",
   "metadata": {
    "scrolled": false
   },
   "outputs": [
    {
     "name": "stderr",
     "output_type": "stream",
     "text": [
      "C:\\Users\\admin\\anaconda3\\lib\\site-packages\\seaborn\\_decorators.py:36: FutureWarning: Pass the following variable as a keyword arg: x. From version 0.12, the only valid positional argument will be `data`, and passing other arguments without an explicit keyword will result in an error or misinterpretation.\n",
      "  warnings.warn(\n"
     ]
    },
    {
     "data": {
      "text/plain": [
       "<AxesSubplot:xlabel='water', ylabel='count'>"
      ]
     },
     "execution_count": 18,
     "metadata": {},
     "output_type": "execute_result"
    },
    {
     "data": {
      "image/png": "[encoded data removed]",
      "text/plain": [
       "<Figure size 432x288 with 1 Axes>"
      ]
     },
     "metadata": {
      "needs_background": "light"
     },
     "output_type": "display_data"
    }
   ],
   "source": [
    "sns.countplot(data[\"water\"])"
   ]
  },
  {
   "cell_type": "code",
   "execution_count": 19,
   "id": "35665f62",
   "metadata": {
    "scrolled": false
   },
   "outputs": [
    {
     "name": "stderr",
     "output_type": "stream",
     "text": [
      "C:\\Users\\admin\\anaconda3\\lib\\site-packages\\seaborn\\_decorators.py:36: FutureWarning: Pass the following variable as a keyword arg: x. From version 0.12, the only valid positional argument will be `data`, and passing other arguments without an explicit keyword will result in an error or misinterpretation.\n",
      "  warnings.warn(\n"
     ]
    },
    {
     "data": {
      "text/plain": [
       "<AxesSubplot:xlabel='region', ylabel='count'>"
      ]
     },
     "execution_count": 19,
     "metadata": {},
     "output_type": "execute_result"
    },
    {
     "data": {
      "image/png": "[encoded data removed]",
      "text/plain": [
       "<Figure size 432x288 with 1 Axes>"
      ]
     },
     "metadata": {
      "needs_background": "light"
     },
     "output_type": "display_data"
    }
   ],
   "source": [
    "sns.countplot(data[\"region\"])"
   ]
  },
  {
   "cell_type": "code",
   "execution_count": 20,
   "id": "852b12ba",
   "metadata": {
    "scrolled": true
   },
   "outputs": [
    {
     "data": {
      "text/plain": [
       "<AxesSubplot:xlabel='region', ylabel='water'>"
      ]
     },
     "execution_count": 20,
     "metadata": {},
     "output_type": "execute_result"
    },
    {
     "data": {
      "image/png": "[encoded data removed]",
      "text/plain": [
       "<Figure size 432x288 with 1 Axes>"
      ]
     },
     "metadata": {
      "needs_background": "light"
     },
     "output_type": "display_data"
    }
   ],
   "source": [
    "sns.boxplot(x=data[\"region\"],y=data[\"water\"])"
   ]
  },
  {
   "cell_type": "code",
   "execution_count": 21,
   "id": "e1eeb3a6",
   "metadata": {
    "scrolled": true
   },
   "outputs": [
    {
     "data": {
      "text/plain": [
       "<AxesSubplot:xlabel='region', ylabel='uv'>"
      ]
     },
     "execution_count": 21,
     "metadata": {},
     "output_type": "execute_result"
    },
    {
     "data": {
      "image/png": "[encoded data removed]",
      "text/plain": [
       "<Figure size 432x288 with 1 Axes>"
      ]
     },
     "metadata": {
      "needs_background": "light"
     },
     "output_type": "display_data"
    }
   ],
   "source": [
    "sns.boxplot(x=data[\"region\"],y=data[\"uv\"])"
   ]
  },
  {
   "cell_type": "code",
   "execution_count": 22,
   "id": "aa04aeeb",
   "metadata": {},
   "outputs": [
    {
     "data": {
      "text/plain": [
       "<AxesSubplot:xlabel='fertilizer_usage', ylabel='water'>"
      ]
     },
     "execution_count": 22,
     "metadata": {},
     "output_type": "execute_result"
    },
    {
     "data": {
      "image/png": "[encoded data removed]",
      "text/plain": [
       "<Figure size 432x288 with 1 Axes>"
      ]
     },
     "metadata": {
      "needs_background": "light"
     },
     "output_type": "display_data"
    }
   ],
   "source": [
    "sns.boxplot(x=data[\"fertilizer_usage\"],y=data[\"water\"])"
   ]
  },
  {
   "cell_type": "code",
   "execution_count": 23,
   "id": "c21ffc45",
   "metadata": {},
   "outputs": [],
   "source": [
    "X=data.iloc[:,:-1].values\n",
    "y=data.iloc[:,-1].values"
   ]
  },
  {
   "cell_type": "code",
   "execution_count": 24,
   "id": "f8a18d6f",
   "metadata": {},
   "outputs": [],
   "source": [
    "from sklearn.model_selection import train_test_split\n",
    "from sklearn.linear_model import LinearRegression\n",
    "from sklearn.svm import LinearSVR"
   ]
  },
  {
   "cell_type": "code",
   "execution_count": 25,
   "id": "cc28fed9",
   "metadata": {},
   "outputs": [],
   "source": [
    "# from sklearn.preprocessing import StandardScaler\n",
    "# sc=StandardScaler()\n",
    "# X=sc.fit_transform(X)"
   ]
  },
  {
   "cell_type": "code",
   "execution_count": 26,
   "id": "3f5699b8",
   "metadata": {},
   "outputs": [],
   "source": [
    "from sklearn.metrics import accuracy_score\n",
    "from sklearn import metrics"
   ]
  },
  {
   "cell_type": "code",
   "execution_count": 27,
   "id": "80478e0c",
   "metadata": {},
   "outputs": [
    {
     "name": "stdout",
     "output_type": "stream",
     "text": [
      "Train set: (899, 6) (899,)\n",
      "Test set: (100, 6) (100,)\n"
     ]
    }
   ],
   "source": [
    "from sklearn.model_selection import train_test_split\n",
    "X_train, X_test, y_train, y_test = train_test_split(X, y, test_size=0.1, random_state=3)\n",
    "print ('Train set:', X_train.shape,  y_train.shape)\n",
    "print ('Test set:', X_test.shape,  y_test.shape)"
   ]
  },
  {
   "cell_type": "code",
   "execution_count": 28,
   "id": "c94805e0",
   "metadata": {},
   "outputs": [
    {
     "name": "stdout",
     "output_type": "stream",
     "text": [
      "Mean Absolute Er0rr 11.87552233513943\n",
      "Mean Squared Erorr 244.19999601192507\n",
      "Root Mean Squared Error 15.626899756891163\n"
     ]
    }
   ],
   "source": [
    "\n",
    "from sklearn.metrics import accuracy_score\n",
    "\n",
    "reg=LinearRegression()\n",
    "reg.fit(X_train,y_train)\n",
    "yhat=reg.predict(X_test)\n",
    "\n",
    "from sklearn.metrics import r2_score\n",
    "\n",
    "\n",
    "from sklearn.metrics import mean_absolute_error\n",
    "\n",
    "print(\"Mean Absolute Er0rr\", mean_absolute_error(y_test, yhat))\n",
    "\n",
    "from sklearn.metrics import mean_squared_error\n",
    "mean_squared_error= mean_squared_error(y_test, yhat)\n",
    "print(\"Mean Squared Erorr\", mean_squared_error)\n",
    "\n",
    "from math import sqrt\n",
    "rootMeanSquaredError = sqrt(mean_squared_error)\n",
    "print(\"Root Mean Squared Error\",rootMeanSquaredError)"
   ]
  },
  {
   "cell_type": "code",
   "execution_count": 29,
   "id": "15a26882",
   "metadata": {},
   "outputs": [
    {
     "name": "stdout",
     "output_type": "stream",
     "text": [
      "Train set: (799, 6) (799,)\n",
      "Test set: (200, 6) (200,)\n"
     ]
    }
   ],
   "source": [
    "from sklearn.model_selection import train_test_split\n",
    "X_train, X_test, y_train, y_test = train_test_split(X, y, test_size=0.2, random_state=3)\n",
    "print ('Train set:', X_train.shape,  y_train.shape)\n",
    "print ('Test set:', X_test.shape,  y_test.shape)"
   ]
  },
  {
   "cell_type": "code",
   "execution_count": 30,
   "id": "7ef2d48e",
   "metadata": {},
   "outputs": [
    {
     "name": "stdout",
     "output_type": "stream",
     "text": [
      "R2 aquare 0.6573740717190931\n",
      "Mean Absolute Er0rr 11.011682638455554\n",
      "Mean Squared Erorr 207.70756535056418\n",
      "Root Mean Squared Error 14.412063188543277\n"
     ]
    }
   ],
   "source": [
    "\n",
    "from sklearn.metrics import accuracy_score\n",
    "\n",
    "reg=LinearRegression()\n",
    "reg.fit(X_train,y_train)\n",
    "yhat=reg.predict(X_test)\n",
    "\n",
    "from sklearn.metrics import r2_score\n",
    "print(\"R2 aquare\",r2_score(y_test, yhat))\n",
    "\n",
    "from sklearn.metrics import mean_absolute_error\n",
    "\n",
    "print(\"Mean Absolute Er0rr\", mean_absolute_error(y_test, yhat))\n",
    "\n",
    "from sklearn.metrics import mean_squared_error\n",
    "mean_squared_error= mean_squared_error(y_test, yhat)\n",
    "print(\"Mean Squared Erorr\", mean_squared_error)\n",
    "\n",
    "from math import sqrt\n",
    "rootMeanSquaredError = sqrt(mean_squared_error)\n",
    "print(\"Root Mean Squared Error\",rootMeanSquaredError)"
   ]
  },
  {
   "cell_type": "code",
   "execution_count": 31,
   "id": "7aebb9e7",
   "metadata": {},
   "outputs": [
    {
     "name": "stdout",
     "output_type": "stream",
     "text": [
      "R2 aquare 0.6579096441923276\n",
      "Mean Absolute Error 10.986108076196999\n",
      "Mean Squared Erorr 207.38288923792305\n",
      "Root Mean Squared Error 14.40079474327452\n"
     ]
    }
   ],
   "source": [
    "from sklearn import linear_model\n",
    "reg = linear_model.Lasso(alpha=0.4)\n",
    "reg.fit(X_train,y_train)\n",
    "yhat=reg.predict(X_test)\n",
    "from sklearn.metrics import r2_score\n",
    "print(\"R2 aquare\",r2_score(y_test, yhat))\n",
    "\n",
    "from sklearn.metrics import mean_absolute_error\n",
    "\n",
    "print(\"Mean Absolute Error\", mean_absolute_error(y_test, yhat))\n",
    "\n",
    "from sklearn.metrics import mean_squared_error\n",
    "mean_squared_error= mean_squared_error(y_test, yhat)\n",
    "print(\"Mean Squared Erorr\", mean_squared_error)\n",
    "\n",
    "from math import sqrt\n",
    "rootMeanSquaredError = sqrt(mean_squared_error)\n",
    "print(\"Root Mean Squared Error\",rootMeanSquaredError)"
   ]
  },
  {
   "cell_type": "code",
   "execution_count": 32,
   "id": "2ff17503",
   "metadata": {},
   "outputs": [
    {
     "name": "stdout",
     "output_type": "stream",
     "text": [
      "R2 aquare 0.864187089982196\n",
      "Mean Absolute Error 6.8836558406170685\n",
      "Mean Squared Erorr 82.33284919361233\n",
      "Root Mean Squared Error 9.07374504786267\n"
     ]
    }
   ],
   "source": [
    "from sklearn.preprocessing import PolynomialFeatures\n",
    "poly_reg = PolynomialFeatures(degree = 2)\n",
    "X_poly = poly_reg.fit_transform(X_train)\n",
    "lin_reg_2 = LinearRegression()\n",
    "lin_reg_2.fit(X_poly, y_train)\n",
    "yhat=lin_reg_2.predict(poly_reg.fit_transform(X_test))\n",
    "from sklearn.metrics import r2_score\n",
    "print(\"R2 aquare\",r2_score(y_test, yhat))\n",
    "\n",
    "from sklearn.metrics import mean_absolute_error\n",
    "\n",
    "print(\"Mean Absolute Error\", mean_absolute_error(y_test, yhat))\n",
    "\n",
    "from sklearn.metrics import mean_squared_error\n",
    "mean_squared_error= mean_squared_error(y_test, yhat)\n",
    "print(\"Mean Squared Erorr\", mean_squared_error)\n",
    "\n",
    "from math import sqrt\n",
    "rootMeanSquaredError = sqrt(mean_squared_error)\n",
    "print(\"Root Mean Squared Error\",rootMeanSquaredError)"
   ]
  },
  {
   "cell_type": "code",
   "execution_count": 33,
   "id": "b6c62d01",
   "metadata": {},
   "outputs": [
    {
     "name": "stdout",
     "output_type": "stream",
     "text": [
      "R2 aquare 0.7945625065228578\n",
      "Mean Absolute Error 8.126178499999998\n",
      "Mean Squared Erorr 124.54084200794999\n",
      "Root Mean Squared Error 11.159786826277193\n"
     ]
    }
   ],
   "source": [
    "from sklearn.ensemble import RandomForestRegressor\n",
    "regressor = RandomForestRegressor(n_estimators = 10, random_state = 50)\n",
    "regressor.fit(X_train, y_train)\n",
    "\n",
    "yhat=regressor.predict(X_test)\n",
    "from sklearn.metrics import r2_score\n",
    "print(\"R2 aquare\",r2_score(y_test, yhat))\n",
    "\n",
    "from sklearn.metrics import mean_absolute_error\n",
    "\n",
    "print(\"Mean Absolute Error\", mean_absolute_error(y_test, yhat))\n",
    "\n",
    "from sklearn.metrics import mean_squared_error\n",
    "mean_squared_error= mean_squared_error(y_test, yhat)\n",
    "print(\"Mean Squared Erorr\", mean_squared_error)\n",
    "\n",
    "from math import sqrt\n",
    "rootMeanSquaredError = sqrt(mean_squared_error)\n",
    "print(\"Root Mean Squared Error\",rootMeanSquaredError)"
   ]
  },
  {
   "cell_type": "code",
   "execution_count": 34,
   "id": "b81f26b0",
   "metadata": {},
   "outputs": [],
   "source": [
    "sample_data = [5.615,65.281,3.23,0,8.969,0]\n",
    "clean_data = [float(i) for i in sample_data]\n",
    "ex1 = np.array(clean_data).reshape(1,-1)"
   ]
  },
  {
   "cell_type": "code",
   "execution_count": 35,
   "id": "48402001",
   "metadata": {},
   "outputs": [],
   "source": [
    "yhat=lin_reg_2.predict(poly_reg.fit_transform(ex1))"
   ]
  },
  {
   "cell_type": "code",
   "execution_count": 36,
   "id": "ee7cd510",
   "metadata": {},
   "outputs": [
    {
     "data": {
      "text/plain": [
       "array([-16.78264545])"
      ]
     },
     "execution_count": 36,
     "metadata": {},
     "output_type": "execute_result"
    }
   ],
   "source": [
    "yhat"
   ]
  },
  {
   "cell_type": "code",
   "execution_count": 37,
   "id": "6bf1928e",
   "metadata": {},
   "outputs": [],
   "source": [
    "yhat=reg.predict(ex1)"
   ]
  },
  {
   "cell_type": "code",
   "execution_count": 38,
   "id": "26cea2ed",
   "metadata": {},
   "outputs": [
    {
     "data": {
      "text/plain": [
       "array([20.34863137])"
      ]
     },
     "execution_count": 38,
     "metadata": {},
     "output_type": "execute_result"
    }
   ],
   "source": [
    "yhat"
   ]
  },
  {
   "cell_type": "code",
   "execution_count": 39,
   "id": "834ef545",
   "metadata": {},
   "outputs": [
    {
     "data": {
      "text/plain": [
       "array([20.35850638])"
      ]
     },
     "execution_count": 39,
     "metadata": {},
     "output_type": "execute_result"
    }
   ],
   "source": [
    "reg=LinearRegression()\n",
    "reg.fit(X_train,y_train)\n",
    "yhat=reg.predict(ex1)\n",
    "yhat"
   ]
  },
  {
   "cell_type": "code",
   "execution_count": 40,
   "id": "5afddd47",
   "metadata": {},
   "outputs": [
    {
     "data": {
      "text/plain": [
       "array([20.34863137])"
      ]
     },
     "execution_count": 40,
     "metadata": {},
     "output_type": "execute_result"
    }
   ],
   "source": [
    "reg = linear_model.Lasso(alpha=0.4)\n",
    "reg.fit(X_train,y_train)\n",
    "yhat=reg.predict(ex1)\n",
    "yhat"
   ]
  },
  {
   "cell_type": "code",
   "execution_count": 41,
   "id": "c95bf44b",
   "metadata": {},
   "outputs": [],
   "source": [
    "regressor = RandomForestRegressor(n_estimators = 10, random_state = 50)\n",
    "regressor.fit(X_train, y_train)\n",
    "\n",
    "yhat=regressor.predict(ex1)"
   ]
  },
  {
   "cell_type": "code",
   "execution_count": 42,
   "id": "74922d3c",
   "metadata": {},
   "outputs": [
    {
     "data": {
      "text/plain": [
       "array([20.5003])"
      ]
     },
     "execution_count": 42,
     "metadata": {},
     "output_type": "execute_result"
    }
   ],
   "source": [
    "yhat"
   ]
  },
  {
   "cell_type": "code",
   "execution_count": 48,
   "id": "8328c2d2",
   "metadata": {},
   "outputs": [
    {
     "data": {
      "text/plain": [
       "array([32.0605])"
      ]
     },
     "execution_count": 48,
     "metadata": {},
     "output_type": "execute_result"
    }
   ],
   "source": [
    "sample_data = [7.044,73.319,9.081,0,7.197,0]\n",
    "clean_data = [float(i) for i in sample_data]\n",
    "ex1 = np.array(clean_data).reshape(1,-1)\n",
    "\n",
    "regressor = RandomForestRegressor(n_estimators = 10, random_state = 50)\n",
    "regressor.fit(X_train, y_train)\n",
    "\n",
    "yhat=regressor.predict(ex1)\n",
    "yhat\n"
   ]
  },
  {
   "cell_type": "code",
   "execution_count": 51,
   "id": "0c847f92",
   "metadata": {},
   "outputs": [
    {
     "data": {
      "text/plain": [
       "32.060500000000005"
      ]
     },
     "execution_count": 51,
     "metadata": {},
     "output_type": "execute_result"
    }
   ],
   "source": [
    "res = yhat[0]\n",
    "res"
   ]
  },
  {
   "cell_type": "code",
   "execution_count": 53,
   "id": "1b0ca212",
   "metadata": {},
   "outputs": [
    {
     "data": {
      "text/plain": [
       "array([51.0358])"
      ]
     },
     "execution_count": 53,
     "metadata": {},
     "output_type": "execute_result"
    }
   ],
   "source": [
    "sample_data = [4.805,59.935,7.387,1,5.023,0]\n",
    "clean_data = [float(i) for i in sample_data]\n",
    "ex1 = np.array(clean_data).reshape(1,-1)\n",
    "\n",
    "regressor = RandomForestRegressor(n_estimators = 10, random_state = 50)\n",
    "regressor.fit(X_train, y_train)\n",
    "\n",
    "yhat=regressor.predict(ex1)\n",
    "yhat"
   ]
  },
  {
   "cell_type": "code",
   "execution_count": null,
   "id": "643068aa",
   "metadata": {},
   "outputs": [],
   "source": [
    "4.805\t59.935\t7.387\t1\t5.023\t0\n"
   ]
  }
 ],
 "metadata": {
  "kernelspec": {
   "display_name": "Python 3 (ipykernel)",
   "language": "python",
   "name": "python3"
  },
  "language_info": {
   "codemirror_mode": {
    "name": "ipython",
    "version": 3
   },
   "file_extension": ".py",
   "mimetype": "text/x-python",
   "name": "python",
   "nbconvert_exporter": "python",
   "pygments_lexer": "ipython3",
   "version": "3.10.9"
  }
 },
 "nbformat": 4,
 "nbformat_minor": 5
}
